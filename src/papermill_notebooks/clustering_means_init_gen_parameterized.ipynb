{
 "cells": [
  {
   "cell_type": "code",
   "execution_count": 25,
   "id": "07632ed2",
   "metadata": {},
   "outputs": [],
   "source": [
    "import duckdb\n",
    "import polars as pl\n",
    "import numpy as np\n",
    "import matplotlib.pyplot as plt\n",
    "import seaborn as sns\n",
    "import json\n",
    "from pathlib import Path\n",
    "from typing import List\n",
    "from functools import partial\n"
   ]
  },
  {
   "cell_type": "code",
   "execution_count": 2,
   "id": "172c85f2",
   "metadata": {},
   "outputs": [
    {
     "name": "stdout",
     "output_type": "stream",
     "text": [
      "Cell executed at: 2025-09-10 14:44:57.082656\n"
     ]
    }
   ],
   "source": [
    "from datetime import datetime\n",
    "print(f\"Cell executed at: {datetime.now()}\")"
   ]
  },
  {
   "cell_type": "code",
   "execution_count": null,
   "id": "4d933b26",
   "metadata": {},
   "outputs": [],
   "source": [
    "database_path = \"/media/longterm_hdd/Clay/Sleep_aDBS/data/sql_databases/baseline_data.duckdb\"\n",
    "device_ids = [\n",
    "    \"RCS12L\",\n",
    "]\n",
    "\n",
    "# this is the name of the table in the duckdb database. Usually corresponds to the session type (e.g. baseline, baseline_2, sleep_profiler, etc.)\n",
    "table_name = \"baseline\"\n",
    "columns_to_collect_stats_for = ['Power_Band5', 'Power_Band6', 'Power_Band7', 'Power_Band8']\n",
    "\n",
    "sessions_to_ignore = []\n",
    "\n",
    "data_points_per_second = 1\n",
    "num_rows_to_exclude_from_beginning_of_session = 10\n",
    "\n",
    "num_seconds_to_include_for_wake_mean = 1800\n",
    "out_path_base = \"/media/longterm_hdd/Clay/Sleep_aDBS/bayes_opt_experiments\""
   ]
  },
  {
   "cell_type": "code",
   "execution_count": 34,
   "id": "b6d76208",
   "metadata": {},
   "outputs": [],
   "source": [
    "# Group by SessionNumber and process each group\n",
    "def process_session_group(group_df: pl.DataFrame, num_to_exclude: int = 0, num_seconds_to_include_for_wake_mean: int = 1800) -> pl.DataFrame:\n",
    "    # Exclude first num_to_exclude rows\n",
    "    if len(group_df) > num_to_exclude:\n",
    "        group_df = group_df.slice(num_to_exclude)\n",
    "    \n",
    "    if len(group_df) == 0:\n",
    "        return None\n",
    "    \n",
    "    # Calculate time since start for filtering\n",
    "    first_timestamp = group_df['localTime'].min()\n",
    "    group_df = group_df.with_columns(\n",
    "        (pl.col('localTime') - first_timestamp).dt.total_seconds().alias('Time_Since_Start_Seconds')\n",
    "    )\n",
    "    \n",
    "    # Filter for first num_seconds_to_include_for_wake_mean seconds\n",
    "    wake_mean_df = group_df.filter(\n",
    "        pl.col('Time_Since_Start_Seconds') <= num_seconds_to_include_for_wake_mean\n",
    "    )\n",
    "\n",
    "    nrem_mean_df = group_df.filter(\n",
    "        pl.col('Time_Since_Start_Seconds') >= num_seconds_to_include_for_wake_mean\n",
    "    )\n",
    "    \n",
    "    # Calculate statistics for each column\n",
    "    stats = {}\n",
    "    session_number = group_df['SessionNumber'].unique().item()\n",
    "    stats['SessionNumber'] = session_number\n",
    "    \n",
    "    for col in columns_to_collect_stats_for:\n",
    "        if col in group_df.columns:\n",
    "            # Calculate mean of first num_seconds_to_include_for_wake_mean seconds\n",
    "            if len(wake_mean_df) > 0:\n",
    "                wake_mean = wake_mean_df[col].mean()\n",
    "            else:\n",
    "                wake_mean = None\n",
    "            \n",
    "            # Calculate mean of NREM data (after wake period, where State == 2)\n",
    "            if len(nrem_mean_df) > 0:\n",
    "                nrem_mean = nrem_mean_df[col].mean()\n",
    "            else:\n",
    "                nrem_mean = None\n",
    "            \n",
    "            stats[f'{col}_putative_wake_mean'] = wake_mean\n",
    "            stats[f'{col}_putative_nrem_mean'] = nrem_mean\n",
    "        else:\n",
    "            print(f\"Warning: Column '{col}' not found in data\")\n",
    "            stats[f'{col}_putative_wake_mean'] = None\n",
    "            stats[f'{col}_putative_nrem_mean'] = None\n",
    "    \n",
    "    return pl.DataFrame([stats])"
   ]
  },
  {
   "cell_type": "code",
   "execution_count": 35,
   "id": "7caa8c31",
   "metadata": {},
   "outputs": [],
   "source": [
    "\n",
    "def analyze_session_statistics(\n",
    "    device_id: str,\n",
    "    table_name: str,\n",
    "    sessions_to_ignore: List[int],\n",
    "    columns_to_collect_stats_for: List[str],\n",
    "    num_to_exclude: int,\n",
    "    num_seconds_to_include_for_wake_mean: int,\n",
    "    db_path: str = None\n",
    ") -> pl.DataFrame:\n",
    "    \"\"\"\n",
    "    Connect to DuckDB table, filter sessions, and calculate statistics for specified columns.\n",
    "    \n",
    "    Parameters\n",
    "    ----------\n",
    "    table_name : str\n",
    "        Name of the DuckDB table to query\n",
    "    sessions_to_ignore : List[int]\n",
    "        List of SessionNumber values to exclude from analysis\n",
    "    columns_to_collect_stats_for : List[str]\n",
    "        List of column names to calculate statistics for\n",
    "    num_to_exclude : int\n",
    "        Number of rows to exclude from the beginning of each session\n",
    "    num_seconds_to_include_for_wake_mean : int\n",
    "        Number of seconds to include for wake mean calculation (from start of session)\n",
    "    db_path : str, optional\n",
    "        Path to DuckDB database file. If None, uses in-memory database.\n",
    "    \n",
    "    Returns\n",
    "    -------\n",
    "    pl.DataFrame\n",
    "        DataFrame with session-level statistics including mean of first N seconds and top quartile\n",
    "    \"\"\"\n",
    "    \n",
    "    # Connect to DuckDB\n",
    "    conn = duckdb.connect(db_path)\n",
    "    \n",
    "    try:\n",
    "        # Query data excluding specified sessions\n",
    "        if len(sessions_to_ignore) > 0:\n",
    "            query = f\"\"\"\n",
    "            SELECT * \n",
    "            FROM {device_id}.{table_name} \n",
    "            WHERE SessionNumber NOT IN ({','.join(map(str, sessions_to_ignore))})\n",
    "            ORDER BY SessionNumber, localTime\n",
    "            \"\"\"\n",
    "        else:\n",
    "            query = f\"\"\"\n",
    "            SELECT * \n",
    "            FROM {device_id}.{table_name} \n",
    "            ORDER BY SessionNumber, localTime\n",
    "            \"\"\"\n",
    "        \n",
    "        # Execute query and convert to Polars DataFrame\n",
    "        df = conn.execute(query).pl()\n",
    "        \n",
    "        if len(df) == 0:\n",
    "            print(\"Warning: No data found after filtering sessions\")\n",
    "            return pl.DataFrame()\n",
    "\n",
    "        process_session_group_partial = partial(process_session_group, num_to_exclude=num_to_exclude, num_seconds_to_include_for_wake_mean=num_seconds_to_include_for_wake_mean)\n",
    "        \n",
    "        # Apply processing to each session group\n",
    "        result_df = (\n",
    "            df.group_by('SessionNumber')\n",
    "            .map_groups(process_session_group_partial)\n",
    "            .filter(pl.col('SessionNumber').is_not_null())\n",
    "        )\n",
    "        \n",
    "        return result_df\n",
    "        \n",
    "    finally:\n",
    "        conn.close()"
   ]
  },
  {
   "cell_type": "code",
   "execution_count": 36,
   "id": "5ffb21a9",
   "metadata": {},
   "outputs": [
    {
     "name": "stdout",
     "output_type": "stream",
     "text": [
      "Processing RCS12L\n"
     ]
    },
    {
     "data": {
      "application/vnd.jupyter.widget-view+json": {
       "model_id": "3fe51ad6f99d4fee9cda1c8137aff5ee",
       "version_major": 2,
       "version_minor": 0
      },
      "text/plain": [
       "FloatProgress(value=0.0, layout=Layout(width='auto'), style=ProgressStyle(bar_color='black'))"
      ]
     },
     "metadata": {},
     "output_type": "display_data"
    }
   ],
   "source": [
    "for device_id in device_ids:\n",
    "    print(f\"Processing {device_id}\")\n",
    "    out_path = f\"{out_path_base}/{device_id[:-1]}/{device_id}\"\n",
    "\n",
    "    result_df = analyze_session_statistics(\n",
    "        device_id=device_id,\n",
    "        table_name=table_name,\n",
    "        sessions_to_ignore=sessions_to_ignore,\n",
    "        columns_to_collect_stats_for=columns_to_collect_stats_for,\n",
    "        num_to_exclude=num_rows_to_exclude_from_beginning_of_session,\n",
    "        num_seconds_to_include_for_wake_mean=num_seconds_to_include_for_wake_mean,\n",
    "        db_path=database_path\n",
    "    )\n",
    "\n",
    "\n",
    "    result_df.write_csv(f\"{out_path}/cluster_means_init_stats.csv\")"
   ]
  },
  {
   "cell_type": "code",
   "execution_count": 37,
   "id": "d9e241af",
   "metadata": {},
   "outputs": [
    {
     "data": {
      "text/html": [
       "<div><style>\n",
       ".dataframe > thead > tr,\n",
       ".dataframe > tbody > tr {\n",
       "  text-align: right;\n",
       "  white-space: pre-wrap;\n",
       "}\n",
       "</style>\n",
       "<small>shape: (9, 9)</small><table border=\"1\" class=\"dataframe\"><thead><tr><th>SessionNumber</th><th>Power_Band5_putative_wake_mean</th><th>Power_Band5_putative_nrem_mean</th><th>Power_Band6_putative_wake_mean</th><th>Power_Band6_putative_nrem_mean</th><th>Power_Band7_putative_wake_mean</th><th>Power_Band7_putative_nrem_mean</th><th>Power_Band8_putative_wake_mean</th><th>Power_Band8_putative_nrem_mean</th></tr><tr><td>str</td><td>f64</td><td>f64</td><td>f64</td><td>f64</td><td>f64</td><td>f64</td><td>f64</td><td>f64</td></tr></thead><tbody><tr><td>&quot;Session1754975513148&quot;</td><td>15090.402</td><td>28934.22294</td><td>4882.942</td><td>9937.58139</td><td>16203.83</td><td>3889.558426</td><td>5441.432</td><td>1096.784715</td></tr><tr><td>&quot;Session1752041037703&quot;</td><td>14619.681208</td><td>24842.613076</td><td>3484.001678</td><td>9897.633815</td><td>6287.753356</td><td>4508.64438</td><td>2898.788591</td><td>1729.514015</td></tr><tr><td>&quot;Session1744175574110&quot;</td><td>22810.658318</td><td>30828.642317</td><td>4051.21288</td><td>12829.830284</td><td>6719.159213</td><td>4947.90679</td><td>2878.921288</td><td>1470.348899</td></tr><tr><td>&quot;Session1751437402486&quot;</td><td>16000.105536</td><td>23974.069097</td><td>4498.937716</td><td>12170.876816</td><td>7749.484429</td><td>6727.654714</td><td>3445.33737</td><td>2391.242988</td></tr><tr><td>&quot;Session1751523708876&quot;</td><td>20055.852792</td><td>27069.312009</td><td>3608.964467</td><td>10703.863207</td><td>4677.634518</td><td>5297.98092</td><td>2555.153976</td><td>1834.999208</td></tr><tr><td>&quot;Session1750830543442&quot;</td><td>28535.569514</td><td>28535.482367</td><td>11988.336683</td><td>13734.09842</td><td>330526.477387</td><td>45805.595228</td><td>239246.358459</td><td>30113.289452</td></tr><tr><td>&quot;Session1748501008221&quot;</td><td>21295.37604</td><td>21611.153337</td><td>4385.091514</td><td>11007.666039</td><td>8038.831947</td><td>9533.734766</td><td>1951.49584</td><td>5092.24314</td></tr><tr><td>&quot;Session1751955169272&quot;</td><td>16181.185315</td><td>23008.234809</td><td>3172.704545</td><td>12065.386546</td><td>6697.059441</td><td>25590.954137</td><td>2858.04021</td><td>18020.816998</td></tr><tr><td>&quot;Session1752300193017&quot;</td><td>14266.222037</td><td>30320.971118</td><td>4009.520868</td><td>20621.034543</td><td>9002.883139</td><td>87565.680406</td><td>2678.440735</td><td>64732.796807</td></tr></tbody></table></div>"
      ],
      "text/plain": [
       "shape: (9, 9)\n",
       "┌───────────┬───────────┬───────────┬───────────┬───┬───────────┬───────────┬───────────┬──────────┐\n",
       "│ SessionNu ┆ Power_Ban ┆ Power_Ban ┆ Power_Ban ┆ … ┆ Power_Ban ┆ Power_Ban ┆ Power_Ban ┆ Power_Ba │\n",
       "│ mber      ┆ d5_putati ┆ d5_putati ┆ d6_putati ┆   ┆ d7_putati ┆ d7_putati ┆ d8_putati ┆ nd8_puta │\n",
       "│ ---       ┆ ve_wake_m ┆ ve_nrem_m ┆ ve_wake_m ┆   ┆ ve_wake_m ┆ ve_nrem_m ┆ ve_wake_m ┆ tive_nre │\n",
       "│ str       ┆ ean       ┆ ean       ┆ ean       ┆   ┆ ean       ┆ ean       ┆ ean       ┆ m_mean   │\n",
       "│           ┆ ---       ┆ ---       ┆ ---       ┆   ┆ ---       ┆ ---       ┆ ---       ┆ ---      │\n",
       "│           ┆ f64       ┆ f64       ┆ f64       ┆   ┆ f64       ┆ f64       ┆ f64       ┆ f64      │\n",
       "╞═══════════╪═══════════╪═══════════╪═══════════╪═══╪═══════════╪═══════════╪═══════════╪══════════╡\n",
       "│ Session17 ┆ 15090.402 ┆ 28934.222 ┆ 4882.942  ┆ … ┆ 16203.83  ┆ 3889.5584 ┆ 5441.432  ┆ 1096.784 │\n",
       "│ 549755131 ┆           ┆ 94        ┆           ┆   ┆           ┆ 26        ┆           ┆ 715      │\n",
       "│ 48        ┆           ┆           ┆           ┆   ┆           ┆           ┆           ┆          │\n",
       "│ Session17 ┆ 14619.681 ┆ 24842.613 ┆ 3484.0016 ┆ … ┆ 6287.7533 ┆ 4508.6443 ┆ 2898.7885 ┆ 1729.514 │\n",
       "│ 520410377 ┆ 208       ┆ 076       ┆ 78        ┆   ┆ 56        ┆ 8         ┆ 91        ┆ 015      │\n",
       "│ 03        ┆           ┆           ┆           ┆   ┆           ┆           ┆           ┆          │\n",
       "│ Session17 ┆ 22810.658 ┆ 30828.642 ┆ 4051.2128 ┆ … ┆ 6719.1592 ┆ 4947.9067 ┆ 2878.9212 ┆ 1470.348 │\n",
       "│ 441755741 ┆ 318       ┆ 317       ┆ 8         ┆   ┆ 13        ┆ 9         ┆ 88        ┆ 899      │\n",
       "│ 10        ┆           ┆           ┆           ┆   ┆           ┆           ┆           ┆          │\n",
       "│ Session17 ┆ 16000.105 ┆ 23974.069 ┆ 4498.9377 ┆ … ┆ 7749.4844 ┆ 6727.6547 ┆ 3445.3373 ┆ 2391.242 │\n",
       "│ 514374024 ┆ 536       ┆ 097       ┆ 16        ┆   ┆ 29        ┆ 14        ┆ 7         ┆ 988      │\n",
       "│ 86        ┆           ┆           ┆           ┆   ┆           ┆           ┆           ┆          │\n",
       "│ Session17 ┆ 20055.852 ┆ 27069.312 ┆ 3608.9644 ┆ … ┆ 4677.6345 ┆ 5297.9809 ┆ 2555.1539 ┆ 1834.999 │\n",
       "│ 515237088 ┆ 792       ┆ 009       ┆ 67        ┆   ┆ 18        ┆ 2         ┆ 76        ┆ 208      │\n",
       "│ 76        ┆           ┆           ┆           ┆   ┆           ┆           ┆           ┆          │\n",
       "│ Session17 ┆ 28535.569 ┆ 28535.482 ┆ 11988.336 ┆ … ┆ 330526.47 ┆ 45805.595 ┆ 239246.35 ┆ 30113.28 │\n",
       "│ 508305434 ┆ 514       ┆ 367       ┆ 683       ┆   ┆ 7387      ┆ 228       ┆ 8459      ┆ 9452     │\n",
       "│ 42        ┆           ┆           ┆           ┆   ┆           ┆           ┆           ┆          │\n",
       "│ Session17 ┆ 21295.376 ┆ 21611.153 ┆ 4385.0915 ┆ … ┆ 8038.8319 ┆ 9533.7347 ┆ 1951.4958 ┆ 5092.243 │\n",
       "│ 485010082 ┆ 04        ┆ 337       ┆ 14        ┆   ┆ 47        ┆ 66        ┆ 4         ┆ 14       │\n",
       "│ 21        ┆           ┆           ┆           ┆   ┆           ┆           ┆           ┆          │\n",
       "│ Session17 ┆ 16181.185 ┆ 23008.234 ┆ 3172.7045 ┆ … ┆ 6697.0594 ┆ 25590.954 ┆ 2858.0402 ┆ 18020.81 │\n",
       "│ 519551692 ┆ 315       ┆ 809       ┆ 45        ┆   ┆ 41        ┆ 137       ┆ 1         ┆ 6998     │\n",
       "│ 72        ┆           ┆           ┆           ┆   ┆           ┆           ┆           ┆          │\n",
       "│ Session17 ┆ 14266.222 ┆ 30320.971 ┆ 4009.5208 ┆ … ┆ 9002.8831 ┆ 87565.680 ┆ 2678.4407 ┆ 64732.79 │\n",
       "│ 523001930 ┆ 037       ┆ 118       ┆ 68        ┆   ┆ 39        ┆ 406       ┆ 35        ┆ 6807     │\n",
       "│ 17        ┆           ┆           ┆           ┆   ┆           ┆           ┆           ┆          │\n",
       "└───────────┴───────────┴───────────┴───────────┴───┴───────────┴───────────┴───────────┴──────────┘"
      ]
     },
     "execution_count": 37,
     "metadata": {},
     "output_type": "execute_result"
    }
   ],
   "source": [
    "result_df"
   ]
  },
  {
   "cell_type": "code",
   "execution_count": 54,
   "id": "33820218",
   "metadata": {},
   "outputs": [
    {
     "data": {
      "text/html": [
       "<div><style>\n",
       ".dataframe > thead > tr,\n",
       ".dataframe > tbody > tr {\n",
       "  text-align: right;\n",
       "  white-space: pre-wrap;\n",
       "}\n",
       "</style>\n",
       "<small>shape: (9, 10)</small><table border=\"1\" class=\"dataframe\"><thead><tr><th>statistic</th><th>SessionNumber</th><th>Power_Band5_putative_wake_mean</th><th>Power_Band5_putative_nrem_mean</th><th>Power_Band6_putative_wake_mean</th><th>Power_Band6_putative_nrem_mean</th><th>Power_Band7_putative_wake_mean</th><th>Power_Band7_putative_nrem_mean</th><th>Power_Band8_putative_wake_mean</th><th>Power_Band8_putative_nrem_mean</th></tr><tr><td>str</td><td>str</td><td>f64</td><td>f64</td><td>f64</td><td>f64</td><td>f64</td><td>f64</td><td>f64</td><td>f64</td></tr></thead><tbody><tr><td>&quot;count&quot;</td><td>&quot;9&quot;</td><td>9.0</td><td>9.0</td><td>9.0</td><td>9.0</td><td>9.0</td><td>9.0</td><td>9.0</td><td>9.0</td></tr><tr><td>&quot;null_count&quot;</td><td>&quot;0&quot;</td><td>0.0</td><td>0.0</td><td>0.0</td><td>0.0</td><td>0.0</td><td>0.0</td><td>0.0</td><td>0.0</td></tr><tr><td>&quot;mean&quot;</td><td>null</td><td>18761.672529</td><td>26569.41123</td><td>4897.968039</td><td>12551.996784</td><td>43989.234825</td><td>21540.856641</td><td>29328.218719</td><td>14053.55958</td></tr><tr><td>&quot;std&quot;</td><td>null</td><td>4810.749231</td><td>3333.670152</td><td>2711.999233</td><td>3291.035814</td><td>107501.153704</td><td>28436.072356</td><td>78725.290249</td><td>21464.343934</td></tr><tr><td>&quot;min&quot;</td><td>&quot;Session1744175574110&quot;</td><td>14266.222037</td><td>21611.153337</td><td>3172.704545</td><td>9897.633815</td><td>4677.634518</td><td>3889.558426</td><td>1951.49584</td><td>1096.784715</td></tr><tr><td>&quot;25%&quot;</td><td>null</td><td>15090.402</td><td>23974.069097</td><td>3608.964467</td><td>10703.863207</td><td>6697.059441</td><td>4947.90679</td><td>2678.440735</td><td>1729.514015</td></tr><tr><td>&quot;50%&quot;</td><td>null</td><td>16181.185315</td><td>27069.312009</td><td>4051.21288</td><td>12065.386546</td><td>7749.484429</td><td>6727.654714</td><td>2878.921288</td><td>2391.242988</td></tr><tr><td>&quot;75%&quot;</td><td>null</td><td>21295.37604</td><td>28934.22294</td><td>4498.937716</td><td>12829.830284</td><td>9002.883139</td><td>25590.954137</td><td>3445.33737</td><td>18020.816998</td></tr><tr><td>&quot;max&quot;</td><td>&quot;Session1754975513148&quot;</td><td>28535.569514</td><td>30828.642317</td><td>11988.336683</td><td>20621.034543</td><td>330526.477387</td><td>87565.680406</td><td>239246.358459</td><td>64732.796807</td></tr></tbody></table></div>"
      ],
      "text/plain": [
       "shape: (9, 10)\n",
       "┌───────────┬───────────┬───────────┬───────────┬───┬───────────┬───────────┬───────────┬──────────┐\n",
       "│ statistic ┆ SessionNu ┆ Power_Ban ┆ Power_Ban ┆ … ┆ Power_Ban ┆ Power_Ban ┆ Power_Ban ┆ Power_Ba │\n",
       "│ ---       ┆ mber      ┆ d5_putati ┆ d5_putati ┆   ┆ d7_putati ┆ d7_putati ┆ d8_putati ┆ nd8_puta │\n",
       "│ str       ┆ ---       ┆ ve_wake_m ┆ ve_nrem_m ┆   ┆ ve_wake_m ┆ ve_nrem_m ┆ ve_wake_m ┆ tive_nre │\n",
       "│           ┆ str       ┆ ean       ┆ ean       ┆   ┆ ean       ┆ ean       ┆ ean       ┆ m_mean   │\n",
       "│           ┆           ┆ ---       ┆ ---       ┆   ┆ ---       ┆ ---       ┆ ---       ┆ ---      │\n",
       "│           ┆           ┆ f64       ┆ f64       ┆   ┆ f64       ┆ f64       ┆ f64       ┆ f64      │\n",
       "╞═══════════╪═══════════╪═══════════╪═══════════╪═══╪═══════════╪═══════════╪═══════════╪══════════╡\n",
       "│ count     ┆ 9         ┆ 9.0       ┆ 9.0       ┆ … ┆ 9.0       ┆ 9.0       ┆ 9.0       ┆ 9.0      │\n",
       "│ null_coun ┆ 0         ┆ 0.0       ┆ 0.0       ┆ … ┆ 0.0       ┆ 0.0       ┆ 0.0       ┆ 0.0      │\n",
       "│ t         ┆           ┆           ┆           ┆   ┆           ┆           ┆           ┆          │\n",
       "│ mean      ┆ null      ┆ 18761.672 ┆ 26569.411 ┆ … ┆ 43989.234 ┆ 21540.856 ┆ 29328.218 ┆ 14053.55 │\n",
       "│           ┆           ┆ 529       ┆ 23        ┆   ┆ 825       ┆ 641       ┆ 719       ┆ 958      │\n",
       "│ std       ┆ null      ┆ 4810.7492 ┆ 3333.6701 ┆ … ┆ 107501.15 ┆ 28436.072 ┆ 78725.290 ┆ 21464.34 │\n",
       "│           ┆           ┆ 31        ┆ 52        ┆   ┆ 3704      ┆ 356       ┆ 249       ┆ 3934     │\n",
       "│ min       ┆ Session17 ┆ 14266.222 ┆ 21611.153 ┆ … ┆ 4677.6345 ┆ 3889.5584 ┆ 1951.4958 ┆ 1096.784 │\n",
       "│           ┆ 441755741 ┆ 037       ┆ 337       ┆   ┆ 18        ┆ 26        ┆ 4         ┆ 715      │\n",
       "│           ┆ 10        ┆           ┆           ┆   ┆           ┆           ┆           ┆          │\n",
       "│ 25%       ┆ null      ┆ 15090.402 ┆ 23974.069 ┆ … ┆ 6697.0594 ┆ 4947.9067 ┆ 2678.4407 ┆ 1729.514 │\n",
       "│           ┆           ┆           ┆ 097       ┆   ┆ 41        ┆ 9         ┆ 35        ┆ 015      │\n",
       "│ 50%       ┆ null      ┆ 16181.185 ┆ 27069.312 ┆ … ┆ 7749.4844 ┆ 6727.6547 ┆ 2878.9212 ┆ 2391.242 │\n",
       "│           ┆           ┆ 315       ┆ 009       ┆   ┆ 29        ┆ 14        ┆ 88        ┆ 988      │\n",
       "│ 75%       ┆ null      ┆ 21295.376 ┆ 28934.222 ┆ … ┆ 9002.8831 ┆ 25590.954 ┆ 3445.3373 ┆ 18020.81 │\n",
       "│           ┆           ┆ 04        ┆ 94        ┆   ┆ 39        ┆ 137       ┆ 7         ┆ 6998     │\n",
       "│ max       ┆ Session17 ┆ 28535.569 ┆ 30828.642 ┆ … ┆ 330526.47 ┆ 87565.680 ┆ 239246.35 ┆ 64732.79 │\n",
       "│           ┆ 549755131 ┆ 514       ┆ 317       ┆   ┆ 7387      ┆ 406       ┆ 8459      ┆ 6807     │\n",
       "│           ┆ 48        ┆           ┆           ┆   ┆           ┆           ┆           ┆          │\n",
       "└───────────┴───────────┴───────────┴───────────┴───┴───────────┴───────────┴───────────┴──────────┘"
      ]
     },
     "execution_count": 54,
     "metadata": {},
     "output_type": "execute_result"
    }
   ],
   "source": [
    "result_summary = result_df.describe()\n",
    "result_summary.head(10)"
   ]
  },
  {
   "cell_type": "code",
   "execution_count": 53,
   "id": "59430bd7",
   "metadata": {},
   "outputs": [
    {
     "data": {
      "text/plain": [
       "array([[16181,  4051,  7749,  2879],\n",
       "       [27069, 12065,  6728,  2391]])"
      ]
     },
     "execution_count": 53,
     "metadata": {},
     "output_type": "execute_result"
    }
   ],
   "source": [
    "for_means_init = np.round(np.concatenate([result_summary.filter(pl.col(\"statistic\") == \"50%\").select(pl.col(\"^.*putative_wake.*$\")).to_numpy(), result_summary.filter(pl.col(\"statistic\") == \"50%\").select(pl.col(\"^.*putative_nrem.*$\")).to_numpy()])).astype(int)\n",
    "for_means_init"
   ]
  },
  {
   "cell_type": "code",
   "execution_count": null,
   "id": "42e40e44",
   "metadata": {},
   "outputs": [],
   "source": []
  }
 ],
 "metadata": {
  "kernelspec": {
   "display_name": "bayesopt",
   "language": "python",
   "name": "python3"
  },
  "language_info": {
   "codemirror_mode": {
    "name": "ipython",
    "version": 3
   },
   "file_extension": ".py",
   "mimetype": "text/x-python",
   "name": "python",
   "nbconvert_exporter": "python",
   "pygments_lexer": "ipython3",
   "version": "3.12.8"
  }
 },
 "nbformat": 4,
 "nbformat_minor": 5
}
